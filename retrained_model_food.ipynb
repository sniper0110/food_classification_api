{
 "cells": [
  {
   "cell_type": "code",
   "execution_count": 15,
   "metadata": {
    "collapsed": false
   },
   "outputs": [],
   "source": [
    "from pymldb import Connection\n",
    "mldb = Connection()"
   ]
  },
  {
   "cell_type": "code",
   "execution_count": 35,
   "metadata": {
    "collapsed": true
   },
   "outputs": [],
   "source": [
    "# The inception model retrained using food dataset with tensorflow 0.10.0\n",
    "inceptionUrl = 'file://retrained_inception_new.zip'"
   ]
  },
  {
   "cell_type": "code",
   "execution_count": 18,
   "metadata": {
    "collapsed": false
   },
   "outputs": [
    {
     "data": {
      "text/html": [
       "<strong>PUT http://localhost/v1/functions/fetch</strong><br /><strong style=\"color: green;\">201 Created</strong><br /> <div class=\"highlight\"><pre style=\"line-height: 125%\"><span></span>{\n",
       "  <span style=\"color: #333333; font-weight: bold\">&quot;config&quot;</span>: {\n",
       "    <span style=\"color: #333333; font-weight: bold\">&quot;params&quot;</span>: {}, \n",
       "    <span style=\"color: #333333; font-weight: bold\">&quot;type&quot;</span>: <span style=\"color: #0000dd\">&quot;fetcher&quot;</span>, \n",
       "    <span style=\"color: #333333; font-weight: bold\">&quot;id&quot;</span>: <span style=\"color: #0000dd\">&quot;fetch&quot;</span>\n",
       "  }, \n",
       "  <span style=\"color: #333333; font-weight: bold\">&quot;state&quot;</span>: <span style=\"color: #0000dd\">&quot;ok&quot;</span>, \n",
       "  <span style=\"color: #333333; font-weight: bold\">&quot;type&quot;</span>: <span style=\"color: #0000dd\">&quot;fetcher&quot;</span>, \n",
       "  <span style=\"color: #333333; font-weight: bold\">&quot;id&quot;</span>: <span style=\"color: #0000dd\">&quot;fetch&quot;</span>\n",
       "}\n",
       "</pre></div>\n"
      ],
      "text/plain": [
       "<Response [201]>"
      ]
     },
     "execution_count": 18,
     "metadata": {},
     "output_type": "execute_result"
    }
   ],
   "source": [
    "# This sets up a fetcher function, which will download a given URL\n",
    "# and returns it as a blob.\n",
    "mldb.put('/v1/functions/fetch', {\n",
    "    \"id\": 'fetch',\n",
    "    \"type\": 'fetcher',\n",
    "    \"params\": {\n",
    "    }\n",
    "})\n"
   ]
  },
  {
   "cell_type": "code",
   "execution_count": 25,
   "metadata": {
    "collapsed": false
   },
   "outputs": [
    {
     "data": {
      "text/html": [
       "<strong>PUT http://localhost/v1/procedures/foodLabels</strong><br /><strong style=\"color: green;\">201 Created</strong><br /> <div class=\"highlight\"><pre style=\"line-height: 125%\"><span></span>{\n",
       "  <span style=\"color: #333333; font-weight: bold\">&quot;status&quot;</span>: {\n",
       "    <span style=\"color: #333333; font-weight: bold\">&quot;firstRun&quot;</span>: {\n",
       "      <span style=\"color: #333333; font-weight: bold\">&quot;runStarted&quot;</span>: <span style=\"color: #0000dd\">&quot;2017-04-17T19:17:26.2074354Z&quot;</span>, \n",
       "      <span style=\"color: #333333; font-weight: bold\">&quot;status&quot;</span>: {\n",
       "        <span style=\"color: #333333; font-weight: bold\">&quot;rowCount&quot;</span>: <span style=\"color: #0000dd\">11</span>, \n",
       "        <span style=\"color: #333333; font-weight: bold\">&quot;numLineErrors&quot;</span>: <span style=\"color: #0000dd\">0</span>\n",
       "      }, \n",
       "      <span style=\"color: #333333; font-weight: bold\">&quot;runFinished&quot;</span>: <span style=\"color: #0000dd\">&quot;2017-04-17T19:17:26.2269022Z&quot;</span>, \n",
       "      <span style=\"color: #333333; font-weight: bold\">&quot;id&quot;</span>: <span style=\"color: #0000dd\">&quot;2017-04-17T19:17:26.207290Z-463496b56263af05&quot;</span>, \n",
       "      <span style=\"color: #333333; font-weight: bold\">&quot;state&quot;</span>: <span style=\"color: #0000dd\">&quot;finished&quot;</span>\n",
       "    }\n",
       "  }, \n",
       "  <span style=\"color: #333333; font-weight: bold\">&quot;config&quot;</span>: {\n",
       "    <span style=\"color: #333333; font-weight: bold\">&quot;params&quot;</span>: {\n",
       "      <span style=\"color: #333333; font-weight: bold\">&quot;headers&quot;</span>: [\n",
       "        <span style=\"color: #0000dd\">&quot;label&quot;</span>\n",
       "      ], \n",
       "      <span style=\"color: #333333; font-weight: bold\">&quot;outputDataset&quot;</span>: <span style=\"color: #0000dd\">&quot;foodLabels&quot;</span>, \n",
       "      <span style=\"color: #333333; font-weight: bold\">&quot;runOnCreation&quot;</span>: <span style=\"color: #0000dd\">true</span>, \n",
       "      <span style=\"color: #333333; font-weight: bold\">&quot;dataFileUrl&quot;</span>: <span style=\"color: #0000dd\">&quot;archive+file://retrained_inception_new.zip#retrained_labels.txt&quot;</span>\n",
       "    }, \n",
       "    <span style=\"color: #333333; font-weight: bold\">&quot;type&quot;</span>: <span style=\"color: #0000dd\">&quot;import.text&quot;</span>, \n",
       "    <span style=\"color: #333333; font-weight: bold\">&quot;id&quot;</span>: <span style=\"color: #0000dd\">&quot;foodLabels&quot;</span>\n",
       "  }, \n",
       "  <span style=\"color: #333333; font-weight: bold\">&quot;state&quot;</span>: <span style=\"color: #0000dd\">&quot;ok&quot;</span>, \n",
       "  <span style=\"color: #333333; font-weight: bold\">&quot;type&quot;</span>: <span style=\"color: #0000dd\">&quot;import.text&quot;</span>, \n",
       "  <span style=\"color: #333333; font-weight: bold\">&quot;id&quot;</span>: <span style=\"color: #0000dd\">&quot;foodLabels&quot;</span>\n",
       "}\n",
       "</pre></div>\n"
      ],
      "text/plain": [
       "<Response [201]>"
      ]
     },
     "execution_count": 25,
     "metadata": {},
     "output_type": "execute_result"
    }
   ],
   "source": [
    "# The labels for the retrained model live within the zip file\n",
    "# above. We read them into a dataset so that we can\n",
    "# join against them later on and turn category numbers into category\n",
    "# names.\n",
    "\n",
    "mldb.put('/v1/procedures/foodLabels', {\n",
    "    \"type\": 'import.text',\n",
    "    \"params\": {\n",
    "        \"dataFileUrl\": 'archive+' + inceptionUrl + '#retrained_labels.txt',\n",
    "        \"headers\": ['label'],\n",
    "        \"outputDataset\": \"foodLabels\",\n",
    "        \"runOnCreation\": True\n",
    "    }\n",
    "})"
   ]
  },
  {
   "cell_type": "code",
   "execution_count": 32,
   "metadata": {
    "collapsed": false
   },
   "outputs": [
    {
     "data": {
      "text/html": [
       "<strong>PUT http://localhost/v1/functions/lookupLabels</strong><br /><strong style=\"color: green;\">201 Created</strong><br /> <div class=\"highlight\"><pre style=\"line-height: 125%\"><span></span>{\n",
       "  <span style=\"color: #333333; font-weight: bold\">&quot;status&quot;</span>: {\n",
       "    <span style=\"color: #333333; font-weight: bold\">&quot;info&quot;</span>: {\n",
       "      <span style=\"color: #333333; font-weight: bold\">&quot;input&quot;</span>: [\n",
       "        {\n",
       "          <span style=\"color: #333333; font-weight: bold\">&quot;hasUnknownColumns&quot;</span>: <span style=\"color: #0000dd\">false</span>, \n",
       "          <span style=\"color: #333333; font-weight: bold\">&quot;kind&quot;</span>: <span style=\"color: #0000dd\">&quot;row&quot;</span>, \n",
       "          <span style=\"color: #333333; font-weight: bold\">&quot;isConstant&quot;</span>: <span style=\"color: #0000dd\">false</span>, \n",
       "          <span style=\"color: #333333; font-weight: bold\">&quot;knownColumns&quot;</span>: [\n",
       "            {\n",
       "              <span style=\"color: #333333; font-weight: bold\">&quot;columnName&quot;</span>: <span style=\"color: #0000dd\">&quot;scores&quot;</span>, \n",
       "              <span style=\"color: #333333; font-weight: bold\">&quot;valueInfo&quot;</span>: {\n",
       "                <span style=\"color: #333333; font-weight: bold\">&quot;type&quot;</span>: <span style=\"color: #0000dd\">&quot;MLDB::AnyValueInfo&quot;</span>, \n",
       "                <span style=\"color: #333333; font-weight: bold\">&quot;isConstant&quot;</span>: <span style=\"color: #0000dd\">false</span>\n",
       "              }, \n",
       "              <span style=\"color: #333333; font-weight: bold\">&quot;sparsity&quot;</span>: <span style=\"color: #0000dd\">&quot;sparse&quot;</span>\n",
       "            }\n",
       "          ], \n",
       "          <span style=\"color: #333333; font-weight: bold\">&quot;hasUnknownColumnsRecursive&quot;</span>: <span style=\"color: #0000dd\">true</span>, \n",
       "          <span style=\"color: #333333; font-weight: bold\">&quot;type&quot;</span>: <span style=\"color: #0000dd\">&quot;MLDB::RowValueInfo&quot;</span>\n",
       "        }\n",
       "      ], \n",
       "      <span style=\"color: #333333; font-weight: bold\">&quot;output&quot;</span>: {\n",
       "        <span style=\"color: #333333; font-weight: bold\">&quot;hasUnknownColumns&quot;</span>: <span style=\"color: #0000dd\">false</span>, \n",
       "        <span style=\"color: #333333; font-weight: bold\">&quot;kind&quot;</span>: <span style=\"color: #0000dd\">&quot;row&quot;</span>, \n",
       "        <span style=\"color: #333333; font-weight: bold\">&quot;isConstant&quot;</span>: <span style=\"color: #0000dd\">false</span>, \n",
       "        <span style=\"color: #333333; font-weight: bold\">&quot;knownColumns&quot;</span>: [\n",
       "          {\n",
       "            <span style=\"color: #333333; font-weight: bold\">&quot;columnName&quot;</span>: <span style=\"color: #0000dd\">&quot;output&quot;</span>, \n",
       "            <span style=\"color: #333333; font-weight: bold\">&quot;valueInfo&quot;</span>: {\n",
       "              <span style=\"color: #333333; font-weight: bold\">&quot;hasUnknownColumns&quot;</span>: <span style=\"color: #0000dd\">true</span>, \n",
       "              <span style=\"color: #333333; font-weight: bold\">&quot;kind&quot;</span>: <span style=\"color: #0000dd\">&quot;row&quot;</span>, \n",
       "              <span style=\"color: #333333; font-weight: bold\">&quot;isConstant&quot;</span>: <span style=\"color: #0000dd\">false</span>, \n",
       "              <span style=\"color: #333333; font-weight: bold\">&quot;knownColumns&quot;</span>: [], \n",
       "              <span style=\"color: #333333; font-weight: bold\">&quot;hasUnknownColumnsRecursive&quot;</span>: <span style=\"color: #0000dd\">true</span>, \n",
       "              <span style=\"color: #333333; font-weight: bold\">&quot;type&quot;</span>: <span style=\"color: #0000dd\">&quot;MLDB::UnknownRowValueInfo&quot;</span>\n",
       "            }, \n",
       "            <span style=\"color: #333333; font-weight: bold\">&quot;sparsity&quot;</span>: <span style=\"color: #0000dd\">&quot;dense&quot;</span>, \n",
       "            <span style=\"color: #333333; font-weight: bold\">&quot;offset&quot;</span>: <span style=\"color: #0000dd\">0</span>\n",
       "          }\n",
       "        ], \n",
       "        <span style=\"color: #333333; font-weight: bold\">&quot;hasUnknownColumnsRecursive&quot;</span>: <span style=\"color: #0000dd\">true</span>, \n",
       "        <span style=\"color: #333333; font-weight: bold\">&quot;type&quot;</span>: <span style=\"color: #0000dd\">&quot;MLDB::RowValueInfo&quot;</span>\n",
       "      }\n",
       "    }, \n",
       "    <span style=\"color: #333333; font-weight: bold\">&quot;expression&quot;</span>: {\n",
       "      <span style=\"color: #333333; font-weight: bold\">&quot;query&quot;</span>: {\n",
       "        <span style=\"color: #333333; font-weight: bold\">&quot;surface&quot;</span>: <span style=\"color: #0000dd\">&quot;SELECT il.label AS column, scores.value AS value \\n            FROM row_dataset($scores) AS scores \\n            JOIN foodLabels AS il \\n            ON CAST(scores.column AS INTEGER) = (CAST (il.rowName() AS INTEGER) - 1) \\n            ORDER BY scores.value DESC \\n            LIMIT 11&quot;</span>, \n",
       "        <span style=\"color: #333333; font-weight: bold\">&quot;ast&quot;</span>: <span style=\"color: #0000dd\">&quot;[computed(\\&quot;column\\&quot;,column(\\&quot;il.label\\&quot;)), computed(\\&quot;value\\&quot;,column(\\&quot;scores.value\\&quot;))]function(\\&quot;\\&quot;,\\&quot;rowPath\\&quot;)join(row_table(param(\\&quot;scores\\&quot;)),dataset(foodLabels,il),compare(\\&quot;=\\&quot;,cast(\\&quot;column(\\&quot;scores.column\\&quot;),\\&quot;integer\\&quot;),arith(\\&quot;-\\&quot;,cast(\\&quot;function(\\&quot;il\\&quot;,\\&quot;rowName\\&quot;),\\&quot;integer\\&quot;),constant([1,\\&quot;-Inf\\&quot;]))))when(constant([1,\\&quot;-Inf\\&quot;]))constant([1,\\&quot;-Inf\\&quot;])scores.value DESCtuple()constant([1,\\&quot;-Inf\\&quot;])&quot;</span>\n",
       "      }\n",
       "    }\n",
       "  }, \n",
       "  <span style=\"color: #333333; font-weight: bold\">&quot;config&quot;</span>: {\n",
       "    <span style=\"color: #333333; font-weight: bold\">&quot;params&quot;</span>: {\n",
       "      <span style=\"color: #333333; font-weight: bold\">&quot;output&quot;</span>: <span style=\"color: #0000dd\">&quot;NAMED_COLUMNS&quot;</span>, \n",
       "      <span style=\"color: #333333; font-weight: bold\">&quot;query&quot;</span>: <span style=\"color: #0000dd\">&quot;\\n            SELECT il.label AS column, scores.value AS value \\n            FROM row_dataset($scores) AS scores \\n            JOIN foodLabels AS il \\n            ON CAST(scores.column AS INTEGER) = (CAST (il.rowName() AS INTEGER) - 1) \\n            ORDER BY scores.value DESC \\n            LIMIT 11\\n        &quot;</span>\n",
       "    }, \n",
       "    <span style=\"color: #333333; font-weight: bold\">&quot;type&quot;</span>: <span style=\"color: #0000dd\">&quot;sql.query&quot;</span>, \n",
       "    <span style=\"color: #333333; font-weight: bold\">&quot;id&quot;</span>: <span style=\"color: #0000dd\">&quot;lookupLabels&quot;</span>\n",
       "  }, \n",
       "  <span style=\"color: #333333; font-weight: bold\">&quot;state&quot;</span>: <span style=\"color: #0000dd\">&quot;ok&quot;</span>, \n",
       "  <span style=\"color: #333333; font-weight: bold\">&quot;type&quot;</span>: <span style=\"color: #0000dd\">&quot;sql.query&quot;</span>, \n",
       "  <span style=\"color: #333333; font-weight: bold\">&quot;id&quot;</span>: <span style=\"color: #0000dd\">&quot;lookupLabels&quot;</span>\n",
       "}\n",
       "</pre></div>\n"
      ],
      "text/plain": [
       "<Response [201]>"
      ]
     },
     "execution_count": 32,
     "metadata": {},
     "output_type": "execute_result"
    }
   ],
   "source": [
    "# This function takes the output of an inception (retrained) graph\n",
    "# and joins the 11 scores against the image labels,\n",
    "# producing a result set that contains an ordered set of category\n",
    "# labels.  The line numbers of the dataset start at 1, so we need to\n",
    "# subtract one to join with the label names.\n",
    "\n",
    "mldb.put('/v1/functions/lookupLabels', {\n",
    "    \"type\": 'sql.query',\n",
    "    \"params\": {\n",
    "        \"query\": \"\"\"\n",
    "            SELECT il.label AS column, scores.value AS value \n",
    "            FROM row_dataset($scores) AS scores \n",
    "            JOIN foodLabels AS il \n",
    "            ON CAST(scores.column AS INTEGER) = (CAST (il.rowName() AS INTEGER) - 1) \n",
    "            ORDER BY scores.value DESC \n",
    "            LIMIT 11\n",
    "        \"\"\",\n",
    "        \"output\": 'NAMED_COLUMNS'\n",
    "    }\n",
    "})"
   ]
  },
  {
   "cell_type": "code",
   "execution_count": 33,
   "metadata": {
    "collapsed": false
   },
   "outputs": [
    {
     "data": {
      "text/html": [
       "<strong>PUT http://localhost/v1/functions/imageEmbedding</strong><br /><strong style=\"color: green;\">201 Created</strong><br /> <div class=\"highlight\"><pre style=\"line-height: 125%\"><span></span>{\n",
       "  <span style=\"color: #333333; font-weight: bold\">&quot;config&quot;</span>: {\n",
       "    <span style=\"color: #333333; font-weight: bold\">&quot;params&quot;</span>: {\n",
       "      <span style=\"color: #333333; font-weight: bold\">&quot;modelFileUrl&quot;</span>: <span style=\"color: #0000dd\">&quot;archive+file://retrained_inception_new.zip#retrained_graph.pb&quot;</span>, \n",
       "      <span style=\"color: #333333; font-weight: bold\">&quot;inputs&quot;</span>: <span style=\"color: #0000dd\">&quot;fetch({url})[content] AS \\&quot;DecodeJpeg/contents\\&quot;&quot;</span>, \n",
       "      <span style=\"color: #333333; font-weight: bold\">&quot;outputs&quot;</span>: <span style=\"color: #0000dd\">&quot;lookupLabels({scores: flatten(final_result)}) AS *&quot;</span>\n",
       "    }, \n",
       "    <span style=\"color: #333333; font-weight: bold\">&quot;type&quot;</span>: <span style=\"color: #0000dd\">&quot;tensorflow.graph&quot;</span>, \n",
       "    <span style=\"color: #333333; font-weight: bold\">&quot;id&quot;</span>: <span style=\"color: #0000dd\">&quot;imageEmbedding&quot;</span>\n",
       "  }, \n",
       "  <span style=\"color: #333333; font-weight: bold\">&quot;state&quot;</span>: <span style=\"color: #0000dd\">&quot;ok&quot;</span>, \n",
       "  <span style=\"color: #333333; font-weight: bold\">&quot;type&quot;</span>: <span style=\"color: #0000dd\">&quot;tensorflow.graph&quot;</span>, \n",
       "  <span style=\"color: #333333; font-weight: bold\">&quot;id&quot;</span>: <span style=\"color: #0000dd\">&quot;imageEmbedding&quot;</span>\n",
       "}\n",
       "</pre></div>\n"
      ],
      "text/plain": [
       "<Response [201]>"
      ]
     },
     "execution_count": 33,
     "metadata": {},
     "output_type": "execute_result"
    }
   ],
   "source": [
    "# Finally, we create the main function.  This is passed in a URL to\n",
    "# classify as the url argument, and will download the image, process\n",
    "# it through the inception net, and returns the top 11 categories with\n",
    "# their weights as output.\n",
    "#\n",
    "# The image itself is fed into the DecodeJpeg/contents node, and the\n",
    "# output is read from final_result node of the graph.\n",
    "\n",
    "mldb.put('/v1/functions/imageEmbedding', {\n",
    "    \"type\": 'tensorflow.graph',\n",
    "    \"params\": {\n",
    "        \"modelFileUrl\": 'archive+' + inceptionUrl + '#retrained_graph.pb',\n",
    "        \"inputs\": 'fetch({url})[content] AS \"DecodeJpeg/contents\"',\n",
    "        \"outputs\": \"lookupLabels({scores: flatten(final_result)}) AS *\"\n",
    "    }\n",
    "})"
   ]
  },
  {
   "cell_type": "code",
   "execution_count": 34,
   "metadata": {
    "collapsed": false
   },
   "outputs": [
    {
     "data": {
      "text/html": [
       "<div>\n",
       "<table border=\"1\" class=\"dataframe\">\n",
       "  <thead>\n",
       "    <tr style=\"text-align: right;\">\n",
       "      <th></th>\n",
       "      <th>output.bread</th>\n",
       "      <th>output.dairy product</th>\n",
       "      <th>output.dessert</th>\n",
       "      <th>output.egg</th>\n",
       "      <th>output.fried food</th>\n",
       "      <th>output.meat</th>\n",
       "      <th>output.noodles pasta</th>\n",
       "      <th>output.rice</th>\n",
       "      <th>output.seafood</th>\n",
       "      <th>output.soup</th>\n",
       "      <th>output.vegetables fruit</th>\n",
       "    </tr>\n",
       "    <tr>\n",
       "      <th>_rowName</th>\n",
       "      <th></th>\n",
       "      <th></th>\n",
       "      <th></th>\n",
       "      <th></th>\n",
       "      <th></th>\n",
       "      <th></th>\n",
       "      <th></th>\n",
       "      <th></th>\n",
       "      <th></th>\n",
       "      <th></th>\n",
       "      <th></th>\n",
       "    </tr>\n",
       "  </thead>\n",
       "  <tbody>\n",
       "    <tr>\n",
       "      <th>result</th>\n",
       "      <td>0.001744</td>\n",
       "      <td>0.001001</td>\n",
       "      <td>0.088869</td>\n",
       "      <td>0.000586</td>\n",
       "      <td>0.001101</td>\n",
       "      <td>0.90108</td>\n",
       "      <td>0.000126</td>\n",
       "      <td>0.000238</td>\n",
       "      <td>0.005069</td>\n",
       "      <td>0.000138</td>\n",
       "      <td>0.000048</td>\n",
       "    </tr>\n",
       "  </tbody>\n",
       "</table>\n",
       "</div>"
      ],
      "text/plain": [
       "          output.bread  output.dairy product  output.dessert  output.egg  \\\n",
       "_rowName                                                                   \n",
       "result        0.001744              0.001001        0.088869    0.000586   \n",
       "\n",
       "          output.fried food  output.meat  output.noodles pasta  output.rice  \\\n",
       "_rowName                                                                      \n",
       "result             0.001101      0.90108              0.000126     0.000238   \n",
       "\n",
       "          output.seafood  output.soup  output.vegetables fruit  \n",
       "_rowName                                                        \n",
       "result          0.005069     0.000138                 0.000048  "
      ]
     },
     "execution_count": 34,
     "metadata": {},
     "output_type": "execute_result"
    }
   ],
   "source": [
    "### Examples of images from the net\n",
    "\n",
    "#filename = \"http://butterybooks.com/wp-content/uploads/Biryani.jpg\"  # Rice\n",
    "#filename = \"http://images.media-allrecipes.com/userphotos/560x315/1087142.jpg\"   # Soup\n",
    "filename = \"http://assets.simplyrecipes.com/wp-content/uploads/2014/12/19140511/prime-rib-horiz-a-1600-600x400.jpg\" # Meat\n",
    "\n",
    "mldb.query(\"SELECT imageEmbedding({url: '%s'}) as *\" % filename)"
   ]
  },
  {
   "cell_type": "code",
   "execution_count": 14,
   "metadata": {
    "collapsed": false
   },
   "outputs": [],
   "source": [
    "#mldb.get('/v1/functions/imageEmbedding/details')"
   ]
  },
  {
   "cell_type": "code",
   "execution_count": null,
   "metadata": {
    "collapsed": true
   },
   "outputs": [],
   "source": []
  }
 ],
 "metadata": {
  "kernelspec": {
   "display_name": "Python 2",
   "language": "python",
   "name": "python2"
  },
  "language_info": {
   "codemirror_mode": {
    "name": "ipython",
    "version": 2
   },
   "file_extension": ".py",
   "mimetype": "text/x-python",
   "name": "python",
   "nbconvert_exporter": "python",
   "pygments_lexer": "ipython2",
   "version": "2.7.6"
  }
 },
 "nbformat": 4,
 "nbformat_minor": 2
}
